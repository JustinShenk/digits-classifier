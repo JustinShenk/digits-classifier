{
 "cells": [
  {
   "cell_type": "code",
   "execution_count": null,
   "metadata": {
    "collapsed": false
   },
   "outputs": [],
   "source": [
    "%matplotlib notebook"
   ]
  },
  {
   "cell_type": "markdown",
   "metadata": {},
   "source": [
    "## Model loader class"
   ]
  },
  {
   "cell_type": "code",
   "execution_count": 22,
   "metadata": {
    "collapsed": false
   },
   "outputs": [],
   "source": [
    "import tensorflow as tf\n",
    "import matplotlib.pyplot as plt\n",
    "import numpy as np\n",
    "import pickle\n",
    "\n",
    "from helper_functions import *\n",
    "\n",
    "data = pickle.load(open('data3_4.p', 'rb'))\n",
    "test_images, test_labels = pickle.load(open('x_test.p','rb')), pickle.load(open('y_test.p','rb'))\n",
    "        \n",
    "class Loader():\n",
    "    def __init__(self, model_path='/tmp/model-final.ckpt'):\n",
    "        self.model_path = model_path\n",
    "        \n",
    "        tf.reset_default_graph()\n",
    "\n",
    "        global_step = tf.Variable(0, name='global_step', trainable=False)\n",
    "\n",
    "        # Initialize input and target tensors\n",
    "        with tf.name_scope('input'):\n",
    "            x = tf.placeholder(tf.float32, shape=[None, 784], name='x-input')\n",
    "            y_ = tf.placeholder(tf.float32, shape=[None, 10], name='y-input')\n",
    "\n",
    "        # Initialize weight and bias tensors\n",
    "        with tf.name_scope('convolutional_layer_1'):\n",
    "            W_conv1 = weight_variable([5, 5, 1, 32])\n",
    "            b_conv1 = bias_variable([32])\n",
    "\n",
    "        with tf.name_scope('input_reshape'):\n",
    "            x_image = tf.reshape(x, [-1,28,28,1])\n",
    "            tf.summary.image('input', x_image, 10)\n",
    "\n",
    "        with tf.name_scope('convolutional_layer1'):\n",
    "            h_conv1 = tf.nn.relu(conv2d(x_image, W_conv1) + b_conv1)\n",
    "\n",
    "        with tf.name_scope('pooling_layer_1'):\n",
    "            h_pool1 = max_pool_2x2(h_conv1)\n",
    "\n",
    "        with tf.name_scope('convolutional_layer_2'):\n",
    "            W_conv2 = weight_variable([5, 5, 32, 64])\n",
    "            b_conv2 = bias_variable([64])        \n",
    "            h_conv2 = tf.nn.relu(conv2d(h_pool1, W_conv2) + b_conv2)\n",
    "\n",
    "        with tf.name_scope('pooling_layer_2'):\n",
    "            h_pool2 = max_pool_2x2(h_conv2)\n",
    "\n",
    "        with tf.name_scope('fully_connected_layer_1'):\n",
    "            W_fc1 = weight_variable([7 * 7 * 64, 512])\n",
    "            b_fc1 = bias_variable([512])\n",
    "            h_pool2_flat = tf.reshape(h_pool2, [-1, 7*7*64])\n",
    "            h_fc1 = tf.nn.relu(tf.matmul(h_pool2_flat, W_fc1) + b_fc1)\n",
    "\n",
    "        with tf.name_scope('dropout'):\n",
    "            keep_prob = tf.placeholder(tf.float32, name='keep_prob')\n",
    "            h_fc1_drop = tf.nn.dropout(h_fc1, keep_prob)                    \n",
    "\n",
    "        with tf.name_scope('fully_connected_layer_2'):\n",
    "            W_fc2 = weight_variable([512, 10])\n",
    "            b_fc2 = bias_variable([10])\n",
    "            y_conv = tf.matmul(h_fc1_drop, W_fc2) + b_fc2\n",
    "\n",
    "        with tf.name_scope('cross_entropy'):\n",
    "            diff = tf.nn.softmax_cross_entropy_with_logits(y_conv, y_)\n",
    "            with tf.name_scope('total'):\n",
    "                cross_entropy = tf.reduce_mean(diff)\n",
    "\n",
    "        with tf.name_scope('train'):\n",
    "            train_step = tf.train.AdamOptimizer(1e-4).minimize(cross_entropy)\n",
    "\n",
    "        with tf.name_scope('accuracy'):\n",
    "            with tf.name_scope('correct_prediction'):\n",
    "                correct_prediction = tf.equal(tf.argmax(y_conv, 1), tf.argmax(y_, 1))\n",
    "            with tf.name_scope('accuracy'):\n",
    "                accuracy = tf.reduce_mean(tf.cast(correct_prediction, tf.float32))\n",
    "\n",
    "        with tf.Session() as sess:\n",
    "            init_op = tf.global_variables_initializer()\n",
    "            saver = tf.train.Saver()\n",
    "            # Initialize variables\n",
    "            sess.run(init_op)\n",
    "            # Restore model weights from previously saved model\n",
    "            saver.restore(sess, self.model_path)\n",
    "            print(\"Model restored from file: %s\" % self.model_path)\n",
    "            self.y_conv, self.x, self.y_, self.keep_prob = y_conv, x, y_, keep_prob\n",
    "            self.output = sess.run([y_conv],feed_dict={x: test_images[:5].reshape(-1,784), y_: test_labels[:5], keep_prob:1.0})\n",
    "            print(self.output)\n",
    "            \n",
    "    def classify(self,images,labels,imshow=False):\n",
    "        if labels.shape[0] == 10:\n",
    "            labels = [labels]            \n",
    "        \n",
    "        with tf.Session() as sess:\n",
    "            init_op = tf.global_variables_initializer()\n",
    "            saver = tf.train.Saver()\n",
    "            # Initialize variables\n",
    "            sess.run(init_op)\n",
    "            # Restore model weights from previously saved model\n",
    "            saver.restore(sess, self.model_path)\n",
    "            print(\"Model restored from file: %s\" % self.model_path)\n",
    "            self.output = sess.run([self.y_conv],feed_dict={self.x: images, self.y_: labels, self.keep_prob:1.0})\n",
    "            if imshow:\n",
    "                for ind, image in enumerate(images):                    \n",
    "                    f, ax = plt.subplots()\n",
    "                    ax.set_title('PREDICTION: ' + str(np.argmax(self.output[0][ind])) +' CORRECT: ' + str(np.argmax(labels[ind])))\n",
    "                    ax.imshow(image.reshape(28,28), cmap='gray')\n",
    "                    plt.axis('off')\n",
    "                    plt.show()\n",
    "            "
   ]
  },
  {
   "cell_type": "code",
   "execution_count": 23,
   "metadata": {
    "collapsed": false,
    "scrolled": false
   },
   "outputs": [
    {
     "name": "stdout",
     "output_type": "stream",
     "text": [
      "Model restored from file: /tmp/model-final.ckpt\n",
      "[array([[   7.83362913,  -12.84924412,    1.59282863,   -0.31561297,\n",
      "         -11.39520931,   -1.20100546,    3.48759437,   -7.18297338,\n",
      "          14.84652996,    1.02751446],\n",
      "       [   8.13209152,  -28.98106956,   -7.50319767,   13.69855785,\n",
      "         -32.49728012,   53.97368622,  136.34501648,  -59.30072784,\n",
      "          36.29725266,  -18.43057251],\n",
      "       [  44.62570953,  -26.28982925,   15.23305893,   24.01831055,\n",
      "         -26.67537689,    0.43133911,  -11.78556347,  -31.41679573,\n",
      "          22.91046906,   -8.49624348],\n",
      "       [ -23.06151581,   -0.4432587 ,   -6.15900135,   -7.4946332 ,\n",
      "          31.59944153,   -7.90786791,   33.15507889,   -2.74865341,\n",
      "         -18.51459885,  -14.09843922],\n",
      "       [   6.56081629,  -24.93846893,    7.61520338,   -0.45531392,\n",
      "         -31.24323654,  -16.28620911,    5.59246206,  -14.54810905,\n",
      "          69.995224  ,  -14.62962151]], dtype=float32)]\n"
     ]
    }
   ],
   "source": [
    "loader = Loader()"
   ]
  },
  {
   "cell_type": "code",
   "execution_count": 25,
   "metadata": {
    "collapsed": false,
    "scrolled": false
   },
   "outputs": [
    {
     "name": "stdout",
     "output_type": "stream",
     "text": [
      "Model restored from file: /tmp/model-final.ckpt\n"
     ]
    },
    {
     "data": {
      "image/png": "[encoded data removed]",
      "text/plain": [
       "<matplotlib.figure.Figure at 0x11fcd3908>"
      ]
     },
     "metadata": {},
     "output_type": "display_data"
    },
    {
     "data": {
      "image/png": "[encoded data removed]",
      "text/plain": [
       "<matplotlib.figure.Figure at 0x11fcc1940>"
      ]
     },
     "metadata": {},
     "output_type": "display_data"
    },
    {
     "data": {
      "image/png": "[encoded data removed]",
      "text/plain": [
       "<matplotlib.figure.Figure at 0x11b08df60>"
      ]
     },
     "metadata": {},
     "output_type": "display_data"
    }
   ],
   "source": [
    "loader.classify(test_images[15:18].reshape(-1,784),test_labels[15:18],imshow=True)"
   ]
  },
  {
   "cell_type": "code",
   "execution_count": null,
   "metadata": {
    "collapsed": true
   },
   "outputs": [],
   "source": []
  }
 ],
 "metadata": {
  "kernelspec": {
   "display_name": "Python 3",
   "language": "python",
   "name": "python3"
  },
  "language_info": {
   "codemirror_mode": {
    "name": "ipython",
    "version": 3
   },
   "file_extension": ".py",
   "mimetype": "text/x-python",
   "name": "python",
   "nbconvert_exporter": "python",
   "pygments_lexer": "ipython3",
   "version": "3.5.3"
  }
 },
 "nbformat": 4,
 "nbformat_minor": 2
}
