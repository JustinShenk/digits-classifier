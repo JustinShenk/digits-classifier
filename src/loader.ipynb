{
 "cells": [
  {
   "cell_type": "code",
   "execution_count": 1,
   "metadata": {
    "collapsed": true
   },
   "outputs": [],
   "source": [
    "%matplotlib notebook\n",
    "\n",
    "import numpy as np\n",
    "import tensorflow as tf\n",
    "import pickle\n",
    "\n",
    "from matplotlib import pyplot as plt\n",
    "\n",
    "LEARNING_RATE = 1e-4\n",
    "\n",
    "data = pickle.load(open('data3_4.p', 'rb'))\n",
    "test_images, test_labels = pickle.load(open('x_test.p','rb')), pickle.load(open('y_test.p','rb'))"
   ]
  },
  {
   "cell_type": "code",
   "execution_count": 85,
   "metadata": {
    "collapsed": false,
    "scrolled": false
   },
   "outputs": [],
   "source": [
    "with tf.Session() as sess:    \n",
    "    \n",
    "    saver = tf.train.import_meta_graph('/home/ubuntu/notebook/digits-classifier/src/500-256-0.001-model.ckpt.meta')\n",
    "    saver.restore(sess, '/home/ubuntu/notebook/digits-classifier/src/500-256-0.001-model.ckpt')\n",
    "    \n",
    "    g = tf.get_default_graph()\n",
    "        \n",
    "    x = g.get_tensor_by_name(\"input/x-input:0\")\n",
    "    y_ = g.get_tensor_by_name(\"input/y-input:0\")    \n",
    "    keep_prob = g.get_tensor_by_name(\"dropout/keep_prob:0\")\n",
    "    y_conv = g.get_collection(\"y_conv\")\n",
    "    \n",
    "    init_op = tf.global_variables_initializer()\n",
    "    sess.run(init_op)\n",
    "    \n",
    "    cross_entropy = tf.get_collection('cross_entropy')[0]\n",
    "    accuracy = tf.get_collection('accuracy')[0]\n",
    "\n",
    "    images  = test_images.reshape(-1,784)    \n",
    "    y_data = np.array(test_labels)    \n",
    "\n",
    "    accuracies = []\n",
    "    predictions = []\n",
    "    misclassifieds = []\n",
    "    n = 40\n",
    "    col = 8\n",
    "    row = int(n/col + 0.5) + 1\n",
    "    \n",
    "    prediction = sess.run([y_conv], feed_dict = {x: [images[0]], y_: [y_data[0]], keep_prob:1.0})\n"
   ]
  },
  {
   "cell_type": "markdown",
   "metadata": {},
   "source": [
    "## Print prediction for first image (This is not consistent?!?)\n"
   ]
  },
  {
   "cell_type": "code",
   "execution_count": 87,
   "metadata": {
    "collapsed": false,
    "scrolled": false
   },
   "outputs": [
    {
     "name": "stdout",
     "output_type": "stream",
     "text": [
      "('prediction:', 0)\n"
     ]
    }
   ],
   "source": [
    "print(\"prediction:\", np.argmax(prediction[0][0]))\n",
    "\n",
    "# print(y_data[0])\n",
    "# plt.imshow(images[0].reshape(28,28))\n",
    "# plt.show()\n",
    "# for i in range(10):\n",
    "#     pred = np.argmax(prediction[i])\n",
    "#     plt.figure()\n",
    "#     plt.title(str(pred) + ' correct: ' + str(np.argmax(y_data[i])))\n",
    "#     plt.imshow(images[i].reshape(28,28),cmap='gray')\n",
    "#     plt.show()"
   ]
  },
  {
   "cell_type": "markdown",
   "metadata": {},
   "source": [
    "## Code that will be useful if model can be loaded"
   ]
  },
  {
   "cell_type": "code",
   "execution_count": null,
   "metadata": {
    "collapsed": true
   },
   "outputs": [],
   "source": [
    "#     # Feed 100 images at a time into model\n",
    "#     for i in range(0,len(test_images),100):        \n",
    "#         end = i+100 if i+100 < len(test_images) else len(test_images) - 1        \n",
    "#         prediction_vector = sess.run([y_conv], feed_dict = \n",
    "#                                      {x: test_images[i:end].reshape(-1,784), y_: labels[i:end], keep_prob: 1.0})                \n",
    "#         # Add predictions to list.\n",
    "#         prediction = np.argmax(prediction_vector[0], axis=1)\n",
    "#         print(len(y_data))\n",
    "#         for ind, p in enumerate(prediction):\n",
    "#             print(i, ind, p, y_data[i+ind])\n",
    "#         predictions.append(prediction)\n",
    "#         misclassifieds.append(np.equal(prediction, y_data[i:end]))\n",
    "#     print(\"prediction\", type(prediction))\n",
    "#     print(\"actual\", y_data[:10],labels)\n",
    "        \n",
    "#         print(np.where(misclassified))\n",
    "#         for j in range(end-i)):        \n",
    "#             plt.figure()\n",
    "#             if np.not_equal(predictions[i],labels[i]):            \n",
    "#                 ax = plt.subplot(1,1,1)\n",
    "#                 ax.set_title(\"P: \" + str(prediction[i]) + \" C: \" + str(labels[i]), fontsize=8)\n",
    "#                 plt.imshow(test_images[i])\n",
    "#                 plt.show()\n",
    "#     plt.figure()\n",
    "#     for i in range(len(images)):\n",
    "#         if i+1 % 32 == 0:\n",
    "#             plt.figure()\n",
    "#             fig = plt.figure(figsize=(10,8))\n",
    "#         prediction_vector = sess.run([y_conv], feed_dict = \n",
    "#                           {x: [images[i]], y_: [labels[i]], keep_prob: 1.0})\n",
    "#         prediction = np.argmax(prediction_vector[0], axis=1)[0]        \n",
    "#         if prediction != y_data[i]\n",
    "#         ax = plt.subplot(row,col,i+1)\n",
    "#         ax.set_title(\"P: \" + str(prediction) + \" C: \" + str(y_data[i]), fontsize=8)        \n",
    "#         plt.subplots_adjust(left=None, bottom=None, right=None, top=None, wspace=None, hspace=0.4)\n",
    "#         plt.axis('off')\n",
    "#         plt.imshow(images[i].reshape(28,28))\n",
    "    "
   ]
  }
 ],
 "metadata": {
  "kernelspec": {
   "display_name": "Python 2",
   "language": "python",
   "name": "python2"
  },
  "language_info": {
   "codemirror_mode": {
    "name": "ipython",
    "version": 2
   },
   "file_extension": ".py",
   "mimetype": "text/x-python",
   "name": "python",
   "nbconvert_exporter": "python",
   "pygments_lexer": "ipython2",
   "version": "2.7.12"
  }
 },
 "nbformat": 4,
 "nbformat_minor": 2
}
