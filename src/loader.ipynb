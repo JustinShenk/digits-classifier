{
 "cells": [
  {
   "cell_type": "markdown",
   "metadata": {
    "deletable": true,
    "editable": true
   },
   "source": [
    "## Model loader class"
   ]
  },
  {
   "cell_type": "code",
   "execution_count": null,
   "metadata": {
    "collapsed": false,
    "deletable": true,
    "editable": true
   },
   "outputs": [],
   "source": [
    "%matplotlib notebook\n",
    "\n",
    "import tensorflow as tf\n",
    "import matplotlib.pyplot as plt\n",
    "import numpy as np\n",
    "import pickle\n",
    "\n",
    "from helper_functions import *\n",
    "\n",
    "# Load test and training set\n",
    "test_images, test_labels = pickle.load(open('x_test.p','rb')), pickle.load(open('y_test.p','rb'))\n",
    "        \n",
    "class Loader():\n",
    "    def __init__(self, model_path='/tmp/model-final.ckpt'):        \n",
    "        if model_path != '/tmp/model-final.ckpt':\n",
    "            curr_dir = os.getcwd()\n",
    "            path = os.path.join(curr_dir,'models',model_path)\n",
    "            self.model_path = path\n",
    "            parameters = model_path.split('model.ckpt')[0].split('-')\n",
    "            print(\"Parameters:\", parameters)\n",
    "            _, k1, kernel_size, ffn, = [int(x) for x in parameters[:4]]\n",
    "        else:\n",
    "            self.model_path = model_path\n",
    "            k1 = 32\n",
    "            kernel_size = 5\n",
    "            ffn = 512\n",
    "\n",
    "        tf.reset_default_graph()\n",
    "\n",
    "        global_step = tf.Variable(0, name='global_step', trainable=False)\n",
    "\n",
    "        # Initialize input and target tensors\n",
    "        with tf.name_scope('input'):\n",
    "            x = tf.placeholder(tf.float32, shape=[None, 784], name='x-input')\n",
    "            y_ = tf.placeholder(tf.float32, shape=[None, 10], name='y-input')\n",
    "\n",
    "        # Initialize weight and bias tensors\n",
    "        with tf.name_scope('convolutional_layer_1'):\n",
    "            W_conv1 = weight_variable([kernel_size, kernel_size, 1, k1])\n",
    "            b_conv1 = bias_variable([k1])\n",
    "\n",
    "        with tf.name_scope('input_reshape'):\n",
    "            x_image = tf.reshape(x, [-1,28,28,1])\n",
    "            tf.summary.image('input', x_image, 10)\n",
    "\n",
    "        with tf.name_scope('convolutional_layer1'):\n",
    "            h_conv1 = tf.nn.relu(conv2d(x_image, W_conv1) + b_conv1)\n",
    "\n",
    "        with tf.name_scope('pooling_layer_1'):\n",
    "            h_pool1 = max_pool_2x2(h_conv1)\n",
    "\n",
    "        with tf.name_scope('convolutional_layer_2'):\n",
    "            W_conv2 = weight_variable([kernel_size, kernel_size, k1, k1*2])\n",
    "            b_conv2 = bias_variable([k1*2])        \n",
    "            h_conv2 = tf.nn.relu(conv2d(h_pool1, W_conv2) + b_conv2)\n",
    "\n",
    "        with tf.name_scope('pooling_layer_2'):\n",
    "            h_pool2 = max_pool_2x2(h_conv2)\n",
    "\n",
    "        with tf.name_scope('fully_connected_layer_1'):\n",
    "            W_fc1 = weight_variable([7 * 7 * k1*2, ffn])\n",
    "            b_fc1 = bias_variable([ffn])\n",
    "            h_pool2_flat = tf.reshape(h_pool2, [-1, 7*7*k1*2])\n",
    "            h_fc1 = tf.nn.relu(tf.matmul(h_pool2_flat, W_fc1) + b_fc1)\n",
    "\n",
    "        with tf.name_scope('dropout'):\n",
    "            keep_prob = tf.placeholder(tf.float32, name='keep_prob')\n",
    "            h_fc1_drop = tf.nn.dropout(h_fc1, keep_prob)                    \n",
    "\n",
    "        with tf.name_scope('fully_connected_layer_2'):\n",
    "            W_fc2 = weight_variable([ffn, 10])\n",
    "            b_fc2 = bias_variable([10])\n",
    "            y_conv = tf.matmul(h_fc1_drop, W_fc2) + b_fc2\n",
    "\n",
    "        with tf.name_scope('cross_entropy'):\n",
    "            diff = tf.nn.softmax_cross_entropy_with_logits(y_conv, y_)\n",
    "            with tf.name_scope('total'):\n",
    "                cross_entropy = tf.reduce_mean(diff)\n",
    "\n",
    "        with tf.name_scope('train'):\n",
    "            train_step = tf.train.AdamOptimizer(1e-4).minimize(cross_entropy)\n",
    "\n",
    "        with tf.name_scope('accuracy'):\n",
    "            with tf.name_scope('correct_prediction'):\n",
    "                correct_prediction = tf.equal(tf.argmax(y_conv, 1), tf.argmax(y_, 1))\n",
    "            with tf.name_scope('accuracy'):\n",
    "                accuracy = tf.reduce_mean(tf.cast(correct_prediction, tf.float32))\n",
    "\n",
    "        with tf.Session() as sess:\n",
    "            init_op = tf.global_variables_initializer()\n",
    "            saver = tf.train.Saver()\n",
    "            # Initialize variables\n",
    "            sess.run(init_op)\n",
    "            # Restore model weights from previously saved model\n",
    "            saver.restore(sess, self.model_path)\n",
    "            print(\"Model restored from file: %s\" % self.model_path)\n",
    "            self.y_conv, self.x, self.y_, self.keep_prob = y_conv, x, y_, keep_prob\n",
    "            self.output = sess.run([y_conv],feed_dict={x: test_images[:5].reshape(-1,784), y_: test_labels[:5], keep_prob:1.0})\n",
    "            print(self.output)\n",
    "            \n",
    "    def classify(self,images,labels,imshow=False):\n",
    "        if labels.shape[0] == 10:\n",
    "            labels = [labels]            \n",
    "        \n",
    "        with tf.Session() as sess:\n",
    "            init_op = tf.global_variables_initializer()\n",
    "            saver = tf.train.Saver()\n",
    "            # Initialize variables\n",
    "            sess.run(init_op)\n",
    "            # Restore model weights from previously saved model\n",
    "            saver.restore(sess, self.model_path)\n",
    "            print(\"Model restored from file: %s\" % self.model_path)\n",
    "            self.output = sess.run([self.y_conv],feed_dict={self.x: images, self.y_: labels, self.keep_prob:1.0})\n",
    "            if imshow:\n",
    "                for ind, image in enumerate(images):                    \n",
    "                    f, ax = plt.subplots()\n",
    "                    ax.set_title('PREDICTION: ' + str(np.argmax(self.output[0][ind])) +' CORRECT: ' + str(np.argmax(labels[ind])))\n",
    "                    ax.imshow(image.reshape(28,28), cmap='gray')\n",
    "                    plt.axis('off')\n",
    "                    plt.show()\n",
    "            "
   ]
  },
  {
   "cell_type": "markdown",
   "metadata": {
    "deletable": true,
    "editable": true
   },
   "source": [
    "## Load model ##"
   ]
  },
  {
   "cell_type": "code",
   "execution_count": null,
   "metadata": {
    "collapsed": false,
    "deletable": true,
    "editable": true,
    "scrolled": false
   },
   "outputs": [
    {
     "name": "stdout",
     "output_type": "stream",
     "text": [
      "('Parameters:', ['256', '8', '5', '64'])\n",
      "WARNING:tensorflow:From /usr/local/lib/python2.7/dist-packages/tensorflow/python/ops/nn_ops.py:1391 in _flatten_outer_dims.: concat (from tensorflow.python.ops.array_ops) is deprecated and will be removed after 2016-12-13.\n",
      "Instructions for updating:\n",
      "This op will be removed after the deprecation date. Please switch to tf.concat_v2().\n",
      "WARNING:tensorflow:From /usr/local/lib/python2.7/dist-packages/tensorflow/python/ops/nn_ops.py:1391 in _flatten_outer_dims.: concat (from tensorflow.python.ops.array_ops) is deprecated and will be removed after 2016-12-13.\n",
      "Instructions for updating:\n",
      "This op will be removed after the deprecation date. Please switch to tf.concat_v2().\n"
     ]
    }
   ],
   "source": [
    "# Input path to model in `src/models/`\n",
    "loader = Loader('256-8-5-64model.ckpt')"
   ]
  },
  {
   "cell_type": "markdown",
   "metadata": {
    "deletable": true,
    "editable": true
   },
   "source": [
    "## Classify images using the model ##"
   ]
  },
  {
   "cell_type": "code",
   "execution_count": null,
   "metadata": {
    "collapsed": false,
    "deletable": true,
    "editable": true,
    "scrolled": false
   },
   "outputs": [],
   "source": [
    "loader.classify(test_images[\n",
    "15:18].reshape(-1,784),test_labels[15:18],imshow=True)"
   ]
  },
  {
   "cell_type": "code",
   "execution_count": null,
   "metadata": {
    "collapsed": true,
    "deletable": true,
    "editable": true
   },
   "outputs": [],
   "source": []
  }
 ],
 "metadata": {
  "kernelspec": {
   "display_name": "Python 2",
   "language": "python",
   "name": "python2"
  },
  "language_info": {
   "codemirror_mode": {
    "name": "ipython",
    "version": 2
   },
   "file_extension": ".py",
   "mimetype": "text/x-python",
   "name": "python",
   "nbconvert_exporter": "python",
   "pygments_lexer": "ipython2",
   "version": "2.7.12"
  }
 },
 "nbformat": 4,
 "nbformat_minor": 2
}
